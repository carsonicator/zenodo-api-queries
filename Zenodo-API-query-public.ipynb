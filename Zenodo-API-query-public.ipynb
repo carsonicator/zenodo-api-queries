{
 "cells": [
  {
   "cell_type": "markdown",
   "id": "706ff785",
   "metadata": {},
   "source": [
    "In this exercise, we will query the Zenodo API for the most recent version of 10 published, open access metadata records that include the 'contributors' field. \n",
    "\n",
    "Prerequisites:\n",
    "1. [Sign up for a Zenodo account](https://zenodo.org/signup/). There is an option to use an existing GitHub or ORCiD account if you like.\n",
    "2. Create an [access token for the Zenodo API](https://zenodo.org/account/settings/applications/tokens/new/#). This will be added to all of your API requests using the ACCESS_TOKEN parameter.\n",
    "\n",
    "References:\n",
    "* [Zenodo API documentation](https://developers.zenodo.org/)\n",
    "* [Elasticsearch help](https://help.zenodo.org/guides/search/)"
   ]
  },
  {
   "cell_type": "code",
   "execution_count": 10,
   "id": "04f652cc",
   "metadata": {},
   "outputs": [],
   "source": [
    "import requests"
   ]
  },
  {
   "cell_type": "code",
   "execution_count": 11,
   "id": "521520b2",
   "metadata": {},
   "outputs": [],
   "source": [
    "ACCESS_TOKEN = 'Your key here'\n",
    "\n",
    "# Number of records to return\n",
    "size = 10\n",
    "\n",
    "response = requests.get('https://zenodo.org/api/records',\n",
    "                        params={'q': '_exists_:contributors', 'size': size, 'page': 1, 'status': 'published', 'sort': 'bestmatch', 'all_versions': 'false', 'access_token': ACCESS_TOKEN})\n",
    "\n",
    "records = response.json()"
   ]
  },
  {
   "cell_type": "code",
   "execution_count": 12,
   "id": "983de8af",
   "metadata": {},
   "outputs": [],
   "source": [
    "from collections import Counter"
   ]
  },
  {
   "cell_type": "code",
   "execution_count": 13,
   "id": "676e62bf",
   "metadata": {},
   "outputs": [],
   "source": [
    "# Print ID, resource type, and contributor role(s) for each record\n",
    "results = []\n",
    "\n",
    "for i in range(len(records['hits']['hits'])):\n",
    "    c = []\n",
    "    contributors = ''\n",
    "    \n",
    "    record_id = records['hits']['hits'][i]['id']\n",
    "    if 'resource_type' in records['hits']['hits'][i]['metadata']:\n",
    "        resource_type = records['hits']['hits'][i]['metadata']['resource_type']['title']\n",
    "    else:\n",
    "        resource_type = \"none\"\n",
    "    if 'title' in records['hits']['hits'][i]['metadata']:\n",
    "        title = records['hits']['hits'][i]['metadata']['title']\n",
    "    else:\n",
    "        title = \"none\"\n",
    "    if 'contributors' in records['hits']['hits'][i]['metadata']:\n",
    "        for j in range(len(records['hits']['hits'][i]['metadata']['contributors'])):\n",
    "            c.append(records['hits']['hits'][i]['metadata']['contributors'][j]['type']) \n",
    "        \n",
    "        contributor_counts = Counter(c)\n",
    "        \n",
    "        count = 0\n",
    "        for contrib in contributor_counts.keys():\n",
    "            if (count > 0):\n",
    "                contributors += ','\n",
    "            contributors += contrib + \"=\" + str(contributor_counts[contrib])\n",
    "            count += 1\n",
    "    else:    \n",
    "        contributors = 'none'\n",
    "    \n",
    "    results.append([record_id,title,resource_type,contributors])"
   ]
  },
  {
   "cell_type": "code",
   "execution_count": 14,
   "id": "cd4c422e",
   "metadata": {},
   "outputs": [],
   "source": [
    "import json\n",
    "import time\n",
    "import os.path\n",
    "import csv"
   ]
  },
  {
   "cell_type": "code",
   "execution_count": 15,
   "id": "7b494428",
   "metadata": {},
   "outputs": [],
   "source": [
    "# Get the current time\n",
    "timestr = time.strftime(\"%Y%m%d-%H%M%S\")\n",
    "\n",
    "# Print all records to a file in JSON format\n",
    "records_path = \"./contrib_records\"\n",
    "record_dump_fn = \"zenodo_contrib_records_\" + str(size) + \"_\" + timestr + \".json\"\n",
    "complete_rd_fn = os.path.join(records_path, record_dump_fn)\n",
    "with open(complete_rd_fn, 'w') as f:\n",
    "    json.dump(records, f, indent = 4, sort_keys = True)\n",
    "f.close()\n",
    "\n",
    "# Print selected output from records\n",
    "parsed_path = \"parsed_output\"\n",
    "parsed_records_fn = \"zenodo_parsed_records\" + \"_\" + timestr + \".csv\"\n",
    "complete_pr_fn = os.path.join(parsed_path, parsed_records_fn)\n",
    "\n",
    "header = ['id','title','resource_type','contributor_role']\n",
    "\n",
    "with open(complete_pr_fn, 'w') as f: \n",
    "    writer = csv.writer(f)\n",
    "    writer.writerow(header)\n",
    "    writer.writerows(results)\n",
    "f.close()"
   ]
  },
  {
   "cell_type": "markdown",
   "id": "e6453953",
   "metadata": {},
   "source": [
    "The code below is for reference:"
   ]
  },
  {
   "cell_type": "code",
   "execution_count": 4,
   "id": "9d179f1b",
   "metadata": {},
   "outputs": [
    {
     "data": {
      "text/plain": [
       "dict"
      ]
     },
     "execution_count": 4,
     "metadata": {},
     "output_type": "execute_result"
    }
   ],
   "source": [
    "type(records)"
   ]
  },
  {
   "cell_type": "code",
   "execution_count": 5,
   "id": "cb11af0f",
   "metadata": {},
   "outputs": [
    {
     "data": {
      "text/plain": [
       "dict_keys(['aggregations', 'hits', 'links'])"
      ]
     },
     "execution_count": 5,
     "metadata": {},
     "output_type": "execute_result"
    }
   ],
   "source": [
    "records.keys()"
   ]
  },
  {
   "cell_type": "code",
   "execution_count": 6,
   "id": "e77a1ec0",
   "metadata": {},
   "outputs": [
    {
     "data": {
      "text/plain": [
       "dict"
      ]
     },
     "execution_count": 6,
     "metadata": {},
     "output_type": "execute_result"
    }
   ],
   "source": [
    "type(records['hits'])"
   ]
  },
  {
   "cell_type": "code",
   "execution_count": 7,
   "id": "9111959f",
   "metadata": {},
   "outputs": [
    {
     "data": {
      "text/plain": [
       "dict_keys(['hits', 'total'])"
      ]
     },
     "execution_count": 7,
     "metadata": {},
     "output_type": "execute_result"
    }
   ],
   "source": [
    "records['hits'].keys()"
   ]
  },
  {
   "cell_type": "code",
   "execution_count": 8,
   "id": "5d19dffd",
   "metadata": {},
   "outputs": [
    {
     "data": {
      "text/plain": [
       "list"
      ]
     },
     "execution_count": 8,
     "metadata": {},
     "output_type": "execute_result"
    }
   ],
   "source": [
    "type(records['hits']['hits'])"
   ]
  },
  {
   "cell_type": "code",
   "execution_count": 9,
   "id": "ad5588cd",
   "metadata": {},
   "outputs": [
    {
     "data": {
      "text/plain": [
       "100"
      ]
     },
     "execution_count": 9,
     "metadata": {},
     "output_type": "execute_result"
    }
   ],
   "source": [
    "len(records['hits']['hits'])"
   ]
  },
  {
   "cell_type": "code",
   "execution_count": 10,
   "id": "a97d913e",
   "metadata": {},
   "outputs": [
    {
     "data": {
      "text/plain": [
       "dict"
      ]
     },
     "execution_count": 10,
     "metadata": {},
     "output_type": "execute_result"
    }
   ],
   "source": [
    "type(records['hits']['hits'][0])"
   ]
  },
  {
   "cell_type": "code",
   "execution_count": 11,
   "id": "ce2ef062",
   "metadata": {},
   "outputs": [
    {
     "data": {
      "text/plain": [
       "dict_keys(['access_right', 'access_right_category', 'creators', 'description', 'doi', 'keywords', 'language', 'license', 'publication_date', 'related_identifiers', 'relations', 'resource_type', 'title'])"
      ]
     },
     "execution_count": 11,
     "metadata": {},
     "output_type": "execute_result"
    }
   ],
   "source": [
    "records['hits']['hits'][3]['metadata'].keys()"
   ]
  }
 ],
 "metadata": {
  "kernelspec": {
   "display_name": "Python 3 (ipykernel)",
   "language": "python",
   "name": "python3"
  },
  "language_info": {
   "codemirror_mode": {
    "name": "ipython",
    "version": 3
   },
   "file_extension": ".py",
   "mimetype": "text/x-python",
   "name": "python",
   "nbconvert_exporter": "python",
   "pygments_lexer": "ipython3",
   "version": "3.8.8"
  }
 },
 "nbformat": 4,
 "nbformat_minor": 5
}
