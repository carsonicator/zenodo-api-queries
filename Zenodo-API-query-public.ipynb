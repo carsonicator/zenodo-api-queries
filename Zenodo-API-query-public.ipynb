{
 "cells": [
  {
   "cell_type": "code",
   "execution_count": 2,
   "id": "04f652cc",
   "metadata": {},
   "outputs": [],
   "source": [
    "import requests"
   ]
  },
  {
   "cell_type": "code",
   "execution_count": 3,
   "id": "521520b2",
   "metadata": {},
   "outputs": [],
   "source": [
    "# API documentation: https://developers.zenodo.org/\n",
    "# Search help: https://help.zenodo.org/guides/search/\n",
    "\n",
    "ACCESS_TOKEN = 'Your key here'\n",
    "response = requests.get('https://zenodo.org/api/records',\n",
    "                        params={'q': '_exists_:contributors', 'size': 100, 'page': 1, 'status': 'published', 'sort': 'bestmatch', 'all_versions': 'false', 'access_token': ACCESS_TOKEN})\n",
    "\n",
    "records = response.json()"
   ]
  },
  {
   "cell_type": "code",
   "execution_count": 4,
   "id": "9d179f1b",
   "metadata": {},
   "outputs": [
    {
     "data": {
      "text/plain": [
       "dict"
      ]
     },
     "execution_count": 4,
     "metadata": {},
     "output_type": "execute_result"
    }
   ],
   "source": [
    "type(records)"
   ]
  },
  {
   "cell_type": "code",
   "execution_count": 5,
   "id": "cb11af0f",
   "metadata": {},
   "outputs": [
    {
     "data": {
      "text/plain": [
       "dict_keys(['aggregations', 'hits', 'links'])"
      ]
     },
     "execution_count": 5,
     "metadata": {},
     "output_type": "execute_result"
    }
   ],
   "source": [
    "records.keys()"
   ]
  },
  {
   "cell_type": "code",
   "execution_count": 6,
   "id": "e77a1ec0",
   "metadata": {},
   "outputs": [
    {
     "data": {
      "text/plain": [
       "dict"
      ]
     },
     "execution_count": 6,
     "metadata": {},
     "output_type": "execute_result"
    }
   ],
   "source": [
    "type(records['hits'])"
   ]
  },
  {
   "cell_type": "code",
   "execution_count": 7,
   "id": "9111959f",
   "metadata": {},
   "outputs": [
    {
     "data": {
      "text/plain": [
       "dict_keys(['hits', 'total'])"
      ]
     },
     "execution_count": 7,
     "metadata": {},
     "output_type": "execute_result"
    }
   ],
   "source": [
    "records['hits'].keys()"
   ]
  },
  {
   "cell_type": "code",
   "execution_count": 8,
   "id": "5d19dffd",
   "metadata": {},
   "outputs": [
    {
     "data": {
      "text/plain": [
       "list"
      ]
     },
     "execution_count": 8,
     "metadata": {},
     "output_type": "execute_result"
    }
   ],
   "source": [
    "type(records['hits']['hits'])"
   ]
  },
  {
   "cell_type": "code",
   "execution_count": 9,
   "id": "ad5588cd",
   "metadata": {},
   "outputs": [
    {
     "data": {
      "text/plain": [
       "100"
      ]
     },
     "execution_count": 9,
     "metadata": {},
     "output_type": "execute_result"
    }
   ],
   "source": [
    "len(records['hits']['hits'])"
   ]
  },
  {
   "cell_type": "code",
   "execution_count": 10,
   "id": "a97d913e",
   "metadata": {},
   "outputs": [
    {
     "data": {
      "text/plain": [
       "dict"
      ]
     },
     "execution_count": 10,
     "metadata": {},
     "output_type": "execute_result"
    }
   ],
   "source": [
    "type(records['hits']['hits'][0])"
   ]
  },
  {
   "cell_type": "code",
   "execution_count": 11,
   "id": "ce2ef062",
   "metadata": {},
   "outputs": [
    {
     "data": {
      "text/plain": [
       "dict_keys(['access_right', 'access_right_category', 'creators', 'description', 'doi', 'keywords', 'language', 'license', 'publication_date', 'related_identifiers', 'relations', 'resource_type', 'title'])"
      ]
     },
     "execution_count": 11,
     "metadata": {},
     "output_type": "execute_result"
    }
   ],
   "source": [
    "records['hits']['hits'][3]['metadata'].keys()"
   ]
  },
  {
   "cell_type": "code",
   "execution_count": 12,
   "id": "676e62bf",
   "metadata": {},
   "outputs": [
    {
     "name": "stdout",
     "output_type": "stream",
     "text": [
      "67 --- 5711223\n",
      "DataCollector\n",
      "DataCollector\n",
      "DataCollector\n",
      "DataCollector\n",
      "DataCollector\n",
      "DataCollector\n",
      "DataCollector\n",
      "DataCollector\n",
      "DataCollector\n",
      "DataCollector\n",
      "DataCollector\n",
      "DataCollector\n",
      "DataCollector\n",
      "DataCollector\n",
      "DataCollector\n",
      "DataCollector\n",
      "DataCollector\n",
      "DataCollector\n",
      "DataCollector\n",
      "DataCollector\n",
      "DataCollector\n",
      "DataCollector\n",
      "DataCollector\n",
      "DataCollector\n"
     ]
    }
   ],
   "source": [
    "for i in range(len(records['hits']['hits'])):\n",
    "    if 'contributors' in records['hits']['hits'][i]['metadata']:\n",
    "        #print (records['hits']['hits'][i]['metadata'].keys())\n",
    "        print (i, \"---\", records['hits']['hits'][i]['id'])\n",
    "        for j in range(len(records['hits']['hits'][i]['metadata']['contributors'])):\n",
    "            print (records['hits']['hits'][i]['metadata']['contributors'][j]['type'])\n",
    "    else:\n",
    "        next"
   ]
  },
  {
   "cell_type": "code",
   "execution_count": 14,
   "id": "27142a9e",
   "metadata": {},
   "outputs": [
    {
     "data": {
      "text/plain": [
       "'DataCollector'"
      ]
     },
     "execution_count": 14,
     "metadata": {},
     "output_type": "execute_result"
    }
   ],
   "source": [
    "records['hits']['hits'][67]['metadata']['contributors'][0]['type']"
   ]
  },
  {
   "cell_type": "code",
   "execution_count": 15,
   "id": "9814bdcf",
   "metadata": {},
   "outputs": [],
   "source": [
    "# Create a list of records with 'contributors'\n",
    "contrib_records = [records['hits']['hits'][record] for record in range(len(records['hits']['hits'])) if 'contributors' in records['hits']['hits'][record]['metadata']]"
   ]
  },
  {
   "cell_type": "code",
   "execution_count": 16,
   "id": "83080866",
   "metadata": {},
   "outputs": [
    {
     "data": {
      "text/plain": [
       "list"
      ]
     },
     "execution_count": 16,
     "metadata": {},
     "output_type": "execute_result"
    }
   ],
   "source": [
    "type(contrib_records)"
   ]
  },
  {
   "cell_type": "code",
   "execution_count": 17,
   "id": "7a201b5f",
   "metadata": {},
   "outputs": [
    {
     "data": {
      "text/plain": [
       "1"
      ]
     },
     "execution_count": 17,
     "metadata": {},
     "output_type": "execute_result"
    }
   ],
   "source": [
    "len(contrib_records)"
   ]
  },
  {
   "cell_type": "code",
   "execution_count": 18,
   "id": "72a0f67a",
   "metadata": {},
   "outputs": [
    {
     "data": {
      "text/plain": [
       "dict"
      ]
     },
     "execution_count": 18,
     "metadata": {},
     "output_type": "execute_result"
    }
   ],
   "source": [
    "type(contrib_records[0])"
   ]
  },
  {
   "cell_type": "code",
   "execution_count": 19,
   "id": "b4488d7e",
   "metadata": {},
   "outputs": [
    {
     "data": {
      "text/plain": [
       "dict_keys(['conceptdoi', 'conceptrecid', 'created', 'doi', 'files', 'id', 'links', 'metadata', 'owners', 'revision', 'stats', 'updated'])"
      ]
     },
     "execution_count": 19,
     "metadata": {},
     "output_type": "execute_result"
    }
   ],
   "source": [
    "contrib_records[0].keys()"
   ]
  },
  {
   "cell_type": "code",
   "execution_count": 20,
   "id": "25c618ad",
   "metadata": {},
   "outputs": [
    {
     "data": {
      "text/plain": [
       "{'access_right': 'open',\n",
       " 'access_right_category': 'success',\n",
       " 'contributors': [{'name': 'Cabrito, Andrea', 'type': 'DataCollector'},\n",
       "  {'name': 'Nancete, Agustí', 'type': 'DataCollector'},\n",
       "  {'name': 'Peralta, Bernat', 'type': 'DataCollector'},\n",
       "  {'name': 'Nabau, Elena', 'type': 'DataCollector'},\n",
       "  {'name': 'Salvador, Elisabet', 'type': 'DataCollector'},\n",
       "  {'name': 'Cahner, Enric', 'type': 'DataCollector'},\n",
       "  {'name': 'Gurrea, Guillem', 'type': 'DataCollector'},\n",
       "  {'name': 'Flo, Jaume', 'type': 'DataCollector'},\n",
       "  {'name': 'Fernández, Jaume Juan', 'type': 'DataCollector'},\n",
       "  {'name': 'de Gea, Josep', 'type': 'DataCollector'},\n",
       "  {'name': 'Lopez Rodríguez, Josep', 'type': 'DataCollector'},\n",
       "  {'name': 'Pujol Casado, Júlia', 'type': 'DataCollector'},\n",
       "  {'name': 'Barbosa, Luisa', 'type': 'DataCollector'},\n",
       "  {'name': 'Álvarez, Maria', 'type': 'DataCollector'},\n",
       "  {'name': 'Peralta, Marc', 'type': 'DataCollector'},\n",
       "  {'name': 'Aparicio, Nuria', 'type': 'DataCollector'},\n",
       "  {'name': 'Martí, Patrícia', 'type': 'DataCollector'},\n",
       "  {'name': 'Vives, Èlia', 'type': 'DataCollector'},\n",
       "  {'name': 'Àlvarez, Olivia', 'type': 'DataCollector'},\n",
       "  {'name': 'Deu, Oriol', 'type': 'DataCollector'},\n",
       "  {'name': 'Juárez, Pablo', 'type': 'DataCollector'},\n",
       "  {'name': 'Llavall, Pol', 'type': 'DataCollector'},\n",
       "  {'name': 'Servitje, Ramon', 'type': 'DataCollector'},\n",
       "  {'name': 'Juncà, Silvia', 'type': 'DataCollector'}],\n",
       " 'creators': [{'affiliation': 'ICM-CSIC', 'name': 'Salvador, Xavi'},\n",
       "  {'affiliation': 'Anèl·lides', 'name': 'Sánchez, Laura'},\n",
       "  {'affiliation': 'Anèl·lides', 'name': 'Domingo, Oriol'},\n",
       "  {'affiliation': 'Anèl·lides', 'name': 'Comaposada, Andrea'},\n",
       "  {'affiliation': 'ICM-CSIC',\n",
       "   'name': 'Soacha, Karen',\n",
       "   'orcid': '0000-0002-4287-1256'},\n",
       "  {'affiliation': 'ICM-CSIC',\n",
       "   'name': 'Piera, Jaume',\n",
       "   'orcid': '0000-0001-5818-9836'}],\n",
       " 'description': '<p>The book is a participatory guide of the biodiversity that the volunteers have observed in the beaches of the Metropolitan Area of Barcelona.</p>\\n\\n<p>All the pictures have been taken from the volunteers (see contributors list)</p>',\n",
       " 'doi': '10.5281/zenodo.5711223',\n",
       " 'grants': [{'acronym': 'COS4CLOUD',\n",
       "   'code': '863463',\n",
       "   'funder': {'acronyms': [],\n",
       "    'doi': '10.13039/501100000780',\n",
       "    'links': {'self': 'https://zenodo.org/api/funders/10.13039/501100000780'},\n",
       "    'name': 'European Commission'},\n",
       "   'links': {'self': 'https://zenodo.org/api/grants/10.13039/501100000780::863463'},\n",
       "   'program': 'Horizon 2020 Framework Programme - Research and Innovation action',\n",
       "   'title': 'Co-designed Citizen Observatories Services for the EOS-Cloud'}],\n",
       " 'imprint': {'isbn': '978-84-267-3322-1',\n",
       "  'place': 'Barcelona, Spain',\n",
       "  'publisher': 'Marcombo'},\n",
       " 'keywords': ['Citizen Science',\n",
       "  'Participatory Science',\n",
       "  'Urban Beaches',\n",
       "  'Ocean Cities',\n",
       "  'Biodiversiy',\n",
       "  'Marine Biology',\n",
       "  'Urban Ecology'],\n",
       " 'language': 'cat',\n",
       " 'license': {'id': 'CC-BY-4.0'},\n",
       " 'publication_date': '2021-11-18',\n",
       " 'related_identifiers': [{'identifier': '10.5281/zenodo.5711222',\n",
       "   'relation': 'isVersionOf',\n",
       "   'scheme': 'doi'}],\n",
       " 'relations': {'version': [{'count': 1,\n",
       "    'index': 0,\n",
       "    'is_last': True,\n",
       "    'last_child': {'pid_type': 'recid', 'pid_value': '5711223'},\n",
       "    'parent': {'pid_type': 'recid', 'pid_value': '5711222'}}]},\n",
       " 'resource_type': {'subtype': 'book', 'title': 'Book', 'type': 'publication'},\n",
       " 'title': 'Guia Participativa Marina del Barcelonès'}"
      ]
     },
     "execution_count": 20,
     "metadata": {},
     "output_type": "execute_result"
    }
   ],
   "source": [
    "contrib_records[0]['metadata']"
   ]
  },
  {
   "cell_type": "code",
   "execution_count": 21,
   "id": "1c275457",
   "metadata": {},
   "outputs": [
    {
     "data": {
      "text/plain": [
       "[{'name': 'Cabrito, Andrea', 'type': 'DataCollector'},\n",
       " {'name': 'Nancete, Agustí', 'type': 'DataCollector'},\n",
       " {'name': 'Peralta, Bernat', 'type': 'DataCollector'},\n",
       " {'name': 'Nabau, Elena', 'type': 'DataCollector'},\n",
       " {'name': 'Salvador, Elisabet', 'type': 'DataCollector'},\n",
       " {'name': 'Cahner, Enric', 'type': 'DataCollector'},\n",
       " {'name': 'Gurrea, Guillem', 'type': 'DataCollector'},\n",
       " {'name': 'Flo, Jaume', 'type': 'DataCollector'},\n",
       " {'name': 'Fernández, Jaume Juan', 'type': 'DataCollector'},\n",
       " {'name': 'de Gea, Josep', 'type': 'DataCollector'},\n",
       " {'name': 'Lopez Rodríguez, Josep', 'type': 'DataCollector'},\n",
       " {'name': 'Pujol Casado, Júlia', 'type': 'DataCollector'},\n",
       " {'name': 'Barbosa, Luisa', 'type': 'DataCollector'},\n",
       " {'name': 'Álvarez, Maria', 'type': 'DataCollector'},\n",
       " {'name': 'Peralta, Marc', 'type': 'DataCollector'},\n",
       " {'name': 'Aparicio, Nuria', 'type': 'DataCollector'},\n",
       " {'name': 'Martí, Patrícia', 'type': 'DataCollector'},\n",
       " {'name': 'Vives, Èlia', 'type': 'DataCollector'},\n",
       " {'name': 'Àlvarez, Olivia', 'type': 'DataCollector'},\n",
       " {'name': 'Deu, Oriol', 'type': 'DataCollector'},\n",
       " {'name': 'Juárez, Pablo', 'type': 'DataCollector'},\n",
       " {'name': 'Llavall, Pol', 'type': 'DataCollector'},\n",
       " {'name': 'Servitje, Ramon', 'type': 'DataCollector'},\n",
       " {'name': 'Juncà, Silvia', 'type': 'DataCollector'}]"
      ]
     },
     "execution_count": 21,
     "metadata": {},
     "output_type": "execute_result"
    }
   ],
   "source": [
    "contrib_records[0]['metadata']['contributors']"
   ]
  },
  {
   "cell_type": "code",
   "execution_count": 22,
   "id": "603c880a",
   "metadata": {},
   "outputs": [
    {
     "data": {
      "text/plain": [
       "'DataCollector'"
      ]
     },
     "execution_count": 22,
     "metadata": {},
     "output_type": "execute_result"
    }
   ],
   "source": [
    "contrib_records[0]['metadata']['contributors'][0]['type']"
   ]
  },
  {
   "cell_type": "code",
   "execution_count": 28,
   "id": "7b494428",
   "metadata": {},
   "outputs": [],
   "source": [
    "import json\n",
    "import time\n",
    "import os.path\n",
    "\n",
    "path = \"./contrib_records\"\n",
    "timestr = time.strftime(\"%Y%m%d-%H%M%S\")\n",
    "filename = \"contrib_records\" + \"_\" + timestr + \".json\"\n",
    "complete_fn = os.path.join(path, filename)\n",
    "\n",
    "with open(complete_fn, 'w') as f:\n",
    "    json.dump(contrib_records, f, indent = 4, sort_keys = True)"
   ]
  }
 ],
 "metadata": {
  "kernelspec": {
   "display_name": "Python 3 (ipykernel)",
   "language": "python",
   "name": "python3"
  },
  "language_info": {
   "codemirror_mode": {
    "name": "ipython",
    "version": 3
   },
   "file_extension": ".py",
   "mimetype": "text/x-python",
   "name": "python",
   "nbconvert_exporter": "python",
   "pygments_lexer": "ipython3",
   "version": "3.8.8"
  }
 },
 "nbformat": 4,
 "nbformat_minor": 5
}
